{
 "cells": [
  {
   "cell_type": "markdown",
   "id": "2b9ec494-09ec-4219-a2df-6227ba1b8f59",
   "metadata": {},
   "source": [
    "# Wine Quality Prediction with RFC\n"
   ]
  },
  {
   "cell_type": "code",
   "execution_count": 1,
   "id": "82c50468-0eee-4fb8-995e-2aa025165d0a",
   "metadata": {},
   "outputs": [],
   "source": [
    "import numpy as np\n",
    "import pandas as pd\n",
    "import seaborn as sns\n",
    "import matplotlib.pyplot as plt\n",
    "from sklearn.preprocessing import LabelEncoder, StandardScaler\n",
    "from sklearn.metrics import classification_report, accuracy_score\n",
    "from sklearn.model_selection import train_test_split,GridSearchCV\n",
    "from sklearn.ensemble import RandomForestClassifier"
   ]
  },
  {
   "cell_type": "markdown",
   "id": "896eddc6-12ac-4f53-b595-8a7472b64a59",
   "metadata": {},
   "source": [
    "### Dataset"
   ]
  },
  {
   "cell_type": "code",
   "execution_count": 2,
   "id": "411ad73e-7b48-46f8-98f0-d4dfc71ab8b8",
   "metadata": {},
   "outputs": [
    {
     "data": {
      "text/html": [
       "<div>\n",
       "<style scoped>\n",
       "    .dataframe tbody tr th:only-of-type {\n",
       "        vertical-align: middle;\n",
       "    }\n",
       "\n",
       "    .dataframe tbody tr th {\n",
       "        vertical-align: top;\n",
       "    }\n",
       "\n",
       "    .dataframe thead th {\n",
       "        text-align: right;\n",
       "    }\n",
       "</style>\n",
       "<table border=\"1\" class=\"dataframe\">\n",
       "  <thead>\n",
       "    <tr style=\"text-align: right;\">\n",
       "      <th></th>\n",
       "      <th>type</th>\n",
       "      <th>fixed acidity</th>\n",
       "      <th>volatile acidity</th>\n",
       "      <th>citric acid</th>\n",
       "      <th>residual sugar</th>\n",
       "      <th>chlorides</th>\n",
       "      <th>free sulfur dioxide</th>\n",
       "      <th>total sulfur dioxide</th>\n",
       "      <th>density</th>\n",
       "      <th>pH</th>\n",
       "      <th>sulphates</th>\n",
       "      <th>alcohol</th>\n",
       "      <th>quality</th>\n",
       "    </tr>\n",
       "  </thead>\n",
       "  <tbody>\n",
       "    <tr>\n",
       "      <th>0</th>\n",
       "      <td>white</td>\n",
       "      <td>7.0</td>\n",
       "      <td>0.270</td>\n",
       "      <td>0.36</td>\n",
       "      <td>20.7</td>\n",
       "      <td>0.045</td>\n",
       "      <td>45.0</td>\n",
       "      <td>170.0</td>\n",
       "      <td>1.00100</td>\n",
       "      <td>3.00</td>\n",
       "      <td>0.45</td>\n",
       "      <td>8.8</td>\n",
       "      <td>6</td>\n",
       "    </tr>\n",
       "    <tr>\n",
       "      <th>1</th>\n",
       "      <td>white</td>\n",
       "      <td>6.3</td>\n",
       "      <td>0.300</td>\n",
       "      <td>0.34</td>\n",
       "      <td>1.6</td>\n",
       "      <td>0.049</td>\n",
       "      <td>14.0</td>\n",
       "      <td>132.0</td>\n",
       "      <td>0.99400</td>\n",
       "      <td>3.30</td>\n",
       "      <td>0.49</td>\n",
       "      <td>9.5</td>\n",
       "      <td>6</td>\n",
       "    </tr>\n",
       "    <tr>\n",
       "      <th>2</th>\n",
       "      <td>white</td>\n",
       "      <td>8.1</td>\n",
       "      <td>0.280</td>\n",
       "      <td>0.40</td>\n",
       "      <td>6.9</td>\n",
       "      <td>0.050</td>\n",
       "      <td>30.0</td>\n",
       "      <td>97.0</td>\n",
       "      <td>0.99510</td>\n",
       "      <td>3.26</td>\n",
       "      <td>0.44</td>\n",
       "      <td>10.1</td>\n",
       "      <td>6</td>\n",
       "    </tr>\n",
       "    <tr>\n",
       "      <th>3</th>\n",
       "      <td>white</td>\n",
       "      <td>7.2</td>\n",
       "      <td>0.230</td>\n",
       "      <td>0.32</td>\n",
       "      <td>8.5</td>\n",
       "      <td>0.058</td>\n",
       "      <td>47.0</td>\n",
       "      <td>186.0</td>\n",
       "      <td>0.99560</td>\n",
       "      <td>3.19</td>\n",
       "      <td>0.40</td>\n",
       "      <td>9.9</td>\n",
       "      <td>6</td>\n",
       "    </tr>\n",
       "    <tr>\n",
       "      <th>4</th>\n",
       "      <td>white</td>\n",
       "      <td>7.2</td>\n",
       "      <td>0.230</td>\n",
       "      <td>0.32</td>\n",
       "      <td>8.5</td>\n",
       "      <td>0.058</td>\n",
       "      <td>47.0</td>\n",
       "      <td>186.0</td>\n",
       "      <td>0.99560</td>\n",
       "      <td>3.19</td>\n",
       "      <td>0.40</td>\n",
       "      <td>9.9</td>\n",
       "      <td>6</td>\n",
       "    </tr>\n",
       "    <tr>\n",
       "      <th>...</th>\n",
       "      <td>...</td>\n",
       "      <td>...</td>\n",
       "      <td>...</td>\n",
       "      <td>...</td>\n",
       "      <td>...</td>\n",
       "      <td>...</td>\n",
       "      <td>...</td>\n",
       "      <td>...</td>\n",
       "      <td>...</td>\n",
       "      <td>...</td>\n",
       "      <td>...</td>\n",
       "      <td>...</td>\n",
       "      <td>...</td>\n",
       "    </tr>\n",
       "    <tr>\n",
       "      <th>6491</th>\n",
       "      <td>red</td>\n",
       "      <td>6.8</td>\n",
       "      <td>0.620</td>\n",
       "      <td>0.08</td>\n",
       "      <td>1.9</td>\n",
       "      <td>0.068</td>\n",
       "      <td>28.0</td>\n",
       "      <td>38.0</td>\n",
       "      <td>0.99651</td>\n",
       "      <td>3.42</td>\n",
       "      <td>0.82</td>\n",
       "      <td>9.5</td>\n",
       "      <td>6</td>\n",
       "    </tr>\n",
       "    <tr>\n",
       "      <th>6492</th>\n",
       "      <td>red</td>\n",
       "      <td>6.2</td>\n",
       "      <td>0.600</td>\n",
       "      <td>0.08</td>\n",
       "      <td>2.0</td>\n",
       "      <td>0.090</td>\n",
       "      <td>32.0</td>\n",
       "      <td>44.0</td>\n",
       "      <td>0.99490</td>\n",
       "      <td>3.45</td>\n",
       "      <td>0.58</td>\n",
       "      <td>10.5</td>\n",
       "      <td>5</td>\n",
       "    </tr>\n",
       "    <tr>\n",
       "      <th>6494</th>\n",
       "      <td>red</td>\n",
       "      <td>6.3</td>\n",
       "      <td>0.510</td>\n",
       "      <td>0.13</td>\n",
       "      <td>2.3</td>\n",
       "      <td>0.076</td>\n",
       "      <td>29.0</td>\n",
       "      <td>40.0</td>\n",
       "      <td>0.99574</td>\n",
       "      <td>3.42</td>\n",
       "      <td>0.75</td>\n",
       "      <td>11.0</td>\n",
       "      <td>6</td>\n",
       "    </tr>\n",
       "    <tr>\n",
       "      <th>6495</th>\n",
       "      <td>red</td>\n",
       "      <td>5.9</td>\n",
       "      <td>0.645</td>\n",
       "      <td>0.12</td>\n",
       "      <td>2.0</td>\n",
       "      <td>0.075</td>\n",
       "      <td>32.0</td>\n",
       "      <td>44.0</td>\n",
       "      <td>0.99547</td>\n",
       "      <td>3.57</td>\n",
       "      <td>0.71</td>\n",
       "      <td>10.2</td>\n",
       "      <td>5</td>\n",
       "    </tr>\n",
       "    <tr>\n",
       "      <th>6496</th>\n",
       "      <td>red</td>\n",
       "      <td>6.0</td>\n",
       "      <td>0.310</td>\n",
       "      <td>0.47</td>\n",
       "      <td>3.6</td>\n",
       "      <td>0.067</td>\n",
       "      <td>18.0</td>\n",
       "      <td>42.0</td>\n",
       "      <td>0.99549</td>\n",
       "      <td>3.39</td>\n",
       "      <td>0.66</td>\n",
       "      <td>11.0</td>\n",
       "      <td>6</td>\n",
       "    </tr>\n",
       "  </tbody>\n",
       "</table>\n",
       "<p>6463 rows × 13 columns</p>\n",
       "</div>"
      ],
      "text/plain": [
       "       type  fixed acidity  volatile acidity  citric acid  residual sugar  \\\n",
       "0     white            7.0             0.270         0.36            20.7   \n",
       "1     white            6.3             0.300         0.34             1.6   \n",
       "2     white            8.1             0.280         0.40             6.9   \n",
       "3     white            7.2             0.230         0.32             8.5   \n",
       "4     white            7.2             0.230         0.32             8.5   \n",
       "...     ...            ...               ...          ...             ...   \n",
       "6491    red            6.8             0.620         0.08             1.9   \n",
       "6492    red            6.2             0.600         0.08             2.0   \n",
       "6494    red            6.3             0.510         0.13             2.3   \n",
       "6495    red            5.9             0.645         0.12             2.0   \n",
       "6496    red            6.0             0.310         0.47             3.6   \n",
       "\n",
       "      chlorides  free sulfur dioxide  total sulfur dioxide  density    pH  \\\n",
       "0         0.045                 45.0                 170.0  1.00100  3.00   \n",
       "1         0.049                 14.0                 132.0  0.99400  3.30   \n",
       "2         0.050                 30.0                  97.0  0.99510  3.26   \n",
       "3         0.058                 47.0                 186.0  0.99560  3.19   \n",
       "4         0.058                 47.0                 186.0  0.99560  3.19   \n",
       "...         ...                  ...                   ...      ...   ...   \n",
       "6491      0.068                 28.0                  38.0  0.99651  3.42   \n",
       "6492      0.090                 32.0                  44.0  0.99490  3.45   \n",
       "6494      0.076                 29.0                  40.0  0.99574  3.42   \n",
       "6495      0.075                 32.0                  44.0  0.99547  3.57   \n",
       "6496      0.067                 18.0                  42.0  0.99549  3.39   \n",
       "\n",
       "      sulphates  alcohol  quality  \n",
       "0          0.45      8.8        6  \n",
       "1          0.49      9.5        6  \n",
       "2          0.44     10.1        6  \n",
       "3          0.40      9.9        6  \n",
       "4          0.40      9.9        6  \n",
       "...         ...      ...      ...  \n",
       "6491       0.82      9.5        6  \n",
       "6492       0.58     10.5        5  \n",
       "6494       0.75     11.0        6  \n",
       "6495       0.71     10.2        5  \n",
       "6496       0.66     11.0        6  \n",
       "\n",
       "[6463 rows x 13 columns]"
      ]
     },
     "execution_count": 2,
     "metadata": {},
     "output_type": "execute_result"
    }
   ],
   "source": [
    "df = pd.read_csv('read_only/winequalityN.csv')\n",
    "df.dropna(inplace=True)\n",
    "df"
   ]
  },
  {
   "cell_type": "code",
   "execution_count": 3,
   "id": "bfbe5575-78b7-41a4-8083-907ab26afb00",
   "metadata": {},
   "outputs": [
    {
     "name": "stdout",
     "output_type": "stream",
     "text": [
      "<class 'pandas.core.frame.DataFrame'>\n",
      "Int64Index: 6463 entries, 0 to 6496\n",
      "Data columns (total 13 columns):\n",
      " #   Column                Non-Null Count  Dtype  \n",
      "---  ------                --------------  -----  \n",
      " 0   type                  6463 non-null   object \n",
      " 1   fixed acidity         6463 non-null   float64\n",
      " 2   volatile acidity      6463 non-null   float64\n",
      " 3   citric acid           6463 non-null   float64\n",
      " 4   residual sugar        6463 non-null   float64\n",
      " 5   chlorides             6463 non-null   float64\n",
      " 6   free sulfur dioxide   6463 non-null   float64\n",
      " 7   total sulfur dioxide  6463 non-null   float64\n",
      " 8   density               6463 non-null   float64\n",
      " 9   pH                    6463 non-null   float64\n",
      " 10  sulphates             6463 non-null   float64\n",
      " 11  alcohol               6463 non-null   float64\n",
      " 12  quality               6463 non-null   int64  \n",
      "dtypes: float64(11), int64(1), object(1)\n",
      "memory usage: 706.9+ KB\n"
     ]
    }
   ],
   "source": [
    "df.info()"
   ]
  },
  {
   "cell_type": "markdown",
   "id": "cb0ad1be-71c4-4c5e-ade0-13eaf0794789",
   "metadata": {},
   "source": [
    "## Histogram"
   ]
  },
  {
   "cell_type": "code",
   "execution_count": 4,
   "id": "69ee3af0-4877-4879-9d10-66ada31e59b3",
   "metadata": {},
   "outputs": [
    {
     "data": {
      "image/png": "[encoded data removed]",
      "text/plain": [
       "<Figure size 720x432 with 1 Axes>"
      ]
     },
     "metadata": {
      "needs_background": "light"
     },
     "output_type": "display_data"
    }
   ],
   "source": [
    "plt.figure(figsize=(10,6))\n",
    "sns.countplot(x = 'quality', hue = 'type', data = df, palette=['silver',\"red\"])\n",
    "plt.show()"
   ]
  },
  {
   "cell_type": "markdown",
   "id": "b37ace5f-06ab-48c5-b0d7-0f6ca5508ba9",
   "metadata": {},
   "source": [
    "## Correlation Matrix"
   ]
  },
  {
   "cell_type": "code",
   "execution_count": 5,
   "id": "1b6165ae-85ea-4764-8484-6c3915661769",
   "metadata": {},
   "outputs": [
    {
     "data": {
      "image/png": "[encoded data removed]",
      "text/plain": [
       "<Figure size 1080x720 with 2 Axes>"
      ]
     },
     "metadata": {
      "needs_background": "light"
     },
     "output_type": "display_data"
    }
   ],
   "source": [
    "corr = df.corr()\n",
    "plt.subplots(figsize=(15,10))\n",
    "sns.heatmap(corr, xticklabels=corr.columns, yticklabels=corr.columns, annot=True, cmap=sns.diverging_palette(220, 20, as_cmap=True));"
   ]
  },
  {
   "cell_type": "markdown",
   "id": "a9b1970b-dbd1-4976-8c38-deef821438dc",
   "metadata": {},
   "source": [
    "### Labeling wine type's"
   ]
  },
  {
   "cell_type": "code",
   "execution_count": 6,
   "id": "0ac3455e-a14c-4049-a2b3-c507c0512d48",
   "metadata": {},
   "outputs": [
    {
     "data": {
      "text/plain": [
       "0       1\n",
       "1       1\n",
       "2       1\n",
       "3       1\n",
       "4       1\n",
       "       ..\n",
       "6491    0\n",
       "6492    0\n",
       "6494    0\n",
       "6495    0\n",
       "6496    0\n",
       "Name: type, Length: 6463, dtype: int32"
      ]
     },
     "execution_count": 6,
     "metadata": {},
     "output_type": "execute_result"
    }
   ],
   "source": [
    "le = LabelEncoder()\n",
    "df['type'] = le.fit_transform(df.type.values)\n",
    "df['type']"
   ]
  },
  {
   "cell_type": "markdown",
   "id": "31caf060-e5e0-4f06-946d-83bf553585f4",
   "metadata": {},
   "source": [
    "### Converting to Classification"
   ]
  },
  {
   "cell_type": "code",
   "execution_count": 7,
   "id": "041a3667-10b1-4316-a775-e02cf0306feb",
   "metadata": {},
   "outputs": [
    {
     "data": {
      "text/plain": [
       "0    5192\n",
       "1    1271\n",
       "Name: goodquality, dtype: int64"
      ]
     },
     "execution_count": 7,
     "metadata": {},
     "output_type": "execute_result"
    }
   ],
   "source": [
    "df['goodquality'] = [1 if x >= 7 else 0 for x in df['quality']]\n",
    "\n",
    "X = df.drop(['quality','goodquality'], axis = 1)\n",
    "y = df['goodquality']\n",
    "\n",
    "quality_count = df['goodquality'].value_counts()\n",
    "quality_count\n",
    "# 0 -> Not good, 1 -> Good quality"
   ]
  },
  {
   "cell_type": "code",
   "execution_count": 8,
   "id": "44c6849f-abd7-47d8-b05f-e03e6e2b41ae",
   "metadata": {},
   "outputs": [
    {
     "data": {
      "text/html": [
       "<div>\n",
       "<style scoped>\n",
       "    .dataframe tbody tr th:only-of-type {\n",
       "        vertical-align: middle;\n",
       "    }\n",
       "\n",
       "    .dataframe tbody tr th {\n",
       "        vertical-align: top;\n",
       "    }\n",
       "\n",
       "    .dataframe thead th {\n",
       "        text-align: right;\n",
       "    }\n",
       "</style>\n",
       "<table border=\"1\" class=\"dataframe\">\n",
       "  <thead>\n",
       "    <tr style=\"text-align: right;\">\n",
       "      <th></th>\n",
       "      <th>type</th>\n",
       "      <th>fixed acidity</th>\n",
       "      <th>volatile acidity</th>\n",
       "      <th>citric acid</th>\n",
       "      <th>residual sugar</th>\n",
       "      <th>chlorides</th>\n",
       "      <th>free sulfur dioxide</th>\n",
       "      <th>total sulfur dioxide</th>\n",
       "      <th>density</th>\n",
       "      <th>pH</th>\n",
       "      <th>sulphates</th>\n",
       "      <th>alcohol</th>\n",
       "      <th>quality</th>\n",
       "      <th>goodquality</th>\n",
       "    </tr>\n",
       "  </thead>\n",
       "  <tbody>\n",
       "    <tr>\n",
       "      <th>0</th>\n",
       "      <td>1</td>\n",
       "      <td>7.0</td>\n",
       "      <td>0.27</td>\n",
       "      <td>0.36</td>\n",
       "      <td>20.7</td>\n",
       "      <td>0.045</td>\n",
       "      <td>45.0</td>\n",
       "      <td>170.0</td>\n",
       "      <td>1.0010</td>\n",
       "      <td>3.00</td>\n",
       "      <td>0.45</td>\n",
       "      <td>8.8</td>\n",
       "      <td>6</td>\n",
       "      <td>0</td>\n",
       "    </tr>\n",
       "    <tr>\n",
       "      <th>1</th>\n",
       "      <td>1</td>\n",
       "      <td>6.3</td>\n",
       "      <td>0.30</td>\n",
       "      <td>0.34</td>\n",
       "      <td>1.6</td>\n",
       "      <td>0.049</td>\n",
       "      <td>14.0</td>\n",
       "      <td>132.0</td>\n",
       "      <td>0.9940</td>\n",
       "      <td>3.30</td>\n",
       "      <td>0.49</td>\n",
       "      <td>9.5</td>\n",
       "      <td>6</td>\n",
       "      <td>0</td>\n",
       "    </tr>\n",
       "    <tr>\n",
       "      <th>2</th>\n",
       "      <td>1</td>\n",
       "      <td>8.1</td>\n",
       "      <td>0.28</td>\n",
       "      <td>0.40</td>\n",
       "      <td>6.9</td>\n",
       "      <td>0.050</td>\n",
       "      <td>30.0</td>\n",
       "      <td>97.0</td>\n",
       "      <td>0.9951</td>\n",
       "      <td>3.26</td>\n",
       "      <td>0.44</td>\n",
       "      <td>10.1</td>\n",
       "      <td>6</td>\n",
       "      <td>0</td>\n",
       "    </tr>\n",
       "    <tr>\n",
       "      <th>3</th>\n",
       "      <td>1</td>\n",
       "      <td>7.2</td>\n",
       "      <td>0.23</td>\n",
       "      <td>0.32</td>\n",
       "      <td>8.5</td>\n",
       "      <td>0.058</td>\n",
       "      <td>47.0</td>\n",
       "      <td>186.0</td>\n",
       "      <td>0.9956</td>\n",
       "      <td>3.19</td>\n",
       "      <td>0.40</td>\n",
       "      <td>9.9</td>\n",
       "      <td>6</td>\n",
       "      <td>0</td>\n",
       "    </tr>\n",
       "    <tr>\n",
       "      <th>4</th>\n",
       "      <td>1</td>\n",
       "      <td>7.2</td>\n",
       "      <td>0.23</td>\n",
       "      <td>0.32</td>\n",
       "      <td>8.5</td>\n",
       "      <td>0.058</td>\n",
       "      <td>47.0</td>\n",
       "      <td>186.0</td>\n",
       "      <td>0.9956</td>\n",
       "      <td>3.19</td>\n",
       "      <td>0.40</td>\n",
       "      <td>9.9</td>\n",
       "      <td>6</td>\n",
       "      <td>0</td>\n",
       "    </tr>\n",
       "  </tbody>\n",
       "</table>\n",
       "</div>"
      ],
      "text/plain": [
       "   type  fixed acidity  volatile acidity  citric acid  residual sugar  \\\n",
       "0     1            7.0              0.27         0.36            20.7   \n",
       "1     1            6.3              0.30         0.34             1.6   \n",
       "2     1            8.1              0.28         0.40             6.9   \n",
       "3     1            7.2              0.23         0.32             8.5   \n",
       "4     1            7.2              0.23         0.32             8.5   \n",
       "\n",
       "   chlorides  free sulfur dioxide  total sulfur dioxide  density    pH  \\\n",
       "0      0.045                 45.0                 170.0   1.0010  3.00   \n",
       "1      0.049                 14.0                 132.0   0.9940  3.30   \n",
       "2      0.050                 30.0                  97.0   0.9951  3.26   \n",
       "3      0.058                 47.0                 186.0   0.9956  3.19   \n",
       "4      0.058                 47.0                 186.0   0.9956  3.19   \n",
       "\n",
       "   sulphates  alcohol  quality  goodquality  \n",
       "0       0.45      8.8        6            0  \n",
       "1       0.49      9.5        6            0  \n",
       "2       0.44     10.1        6            0  \n",
       "3       0.40      9.9        6            0  \n",
       "4       0.40      9.9        6            0  "
      ]
     },
     "execution_count": 8,
     "metadata": {},
     "output_type": "execute_result"
    }
   ],
   "source": [
    "df.head()"
   ]
  },
  {
   "cell_type": "markdown",
   "id": "d7f1f2af-83cc-4f91-9c91-94444ecece58",
   "metadata": {},
   "source": [
    "### Standardizing Feature Variables"
   ]
  },
  {
   "cell_type": "code",
   "execution_count": 9,
   "id": "a4c156f3-2310-43fa-be62-701438f25d46",
   "metadata": {},
   "outputs": [],
   "source": [
    "X_features = X\n",
    "X = StandardScaler().fit_transform(X)"
   ]
  },
  {
   "cell_type": "markdown",
   "id": "bcf2f37b-9dcd-4bc7-9c61-95ca1476d5c1",
   "metadata": {},
   "source": [
    "### Splitting data"
   ]
  },
  {
   "cell_type": "code",
   "execution_count": 10,
   "id": "c3e28751-c4e7-42db-8461-f5b7d3f1e09c",
   "metadata": {},
   "outputs": [
    {
     "name": "stdout",
     "output_type": "stream",
     "text": [
      "Training Features Shape: (4847, 12)\n",
      "Training Labels Shape: (1616, 12)\n",
      "Testing Features Shape: (4847,)\n",
      "Testing Labels Shape: (1616,)\n"
     ]
    }
   ],
   "source": [
    "X_train, X_test, y_train, y_test = train_test_split(X, y, test_size=.25, random_state=0)\n",
    "\n",
    "print('Training Features Shape:', X_train.shape)\n",
    "print('Training Labels Shape:', X_test.shape)\n",
    "print('Testing Features Shape:', y_train.shape)\n",
    "print('Testing Labels Shape:', y_test.shape)"
   ]
  },
  {
   "cell_type": "markdown",
   "id": "f46b1a09-8356-4ea3-a5a7-4b3b1aac1429",
   "metadata": {},
   "source": [
    "## Model 1: \n",
    "### All features / Default Parameters"
   ]
  },
  {
   "cell_type": "code",
   "execution_count": 11,
   "id": "e07aea93-bcf7-4201-98a0-50f26a991198",
   "metadata": {},
   "outputs": [
    {
     "name": "stdout",
     "output_type": "stream",
     "text": [
      "              precision    recall  f1-score   support\n",
      "\n",
      "           0       0.89      0.97      0.93      1315\n",
      "           1       0.78      0.50      0.61       301\n",
      "\n",
      "    accuracy                           0.88      1616\n",
      "   macro avg       0.84      0.73      0.77      1616\n",
      "weighted avg       0.87      0.88      0.87      1616\n",
      "\n",
      "Accuracy Score: 0.88\n"
     ]
    }
   ],
   "source": [
    "from sklearn.ensemble import RandomForestClassifier\n",
    "model = RandomForestClassifier(random_state=1)\n",
    "model.fit(X_train, y_train)\n",
    "y_pred = model.predict(X_test)\n",
    "print(classification_report(y_test, y_pred))\n",
    "print('Accuracy Score: {}'.format(round(accuracy_score(y_test, y_pred),4)))"
   ]
  },
  {
   "cell_type": "markdown",
   "id": "45f9b70f-790a-499a-a3f5-1835285bb393",
   "metadata": {},
   "source": [
    "## Feature importances"
   ]
  },
  {
   "cell_type": "code",
   "execution_count": 12,
   "id": "6034c3cd-832b-4c2f-a108-af6bfa4b1921",
   "metadata": {},
   "outputs": [
    {
     "data": {
      "image/png": "[encoded data removed]",
      "text/plain": [
       "<Figure size 720x720 with 1 Axes>"
      ]
     },
     "metadata": {
      "needs_background": "light"
     },
     "output_type": "display_data"
    }
   ],
   "source": [
    "feat_importances = pd.Series(model.feature_importances_, index=X_features.columns)\n",
    "feat_importances.nlargest(25).plot(kind='barh',figsize=(10,10));\n"
   ]
  },
  {
   "cell_type": "markdown",
   "id": "a168247d-5e25-4dff-8ac6-a9b8028bc5c6",
   "metadata": {},
   "source": [
    "### Printing important features by order"
   ]
  },
  {
   "cell_type": "code",
   "execution_count": 13,
   "id": "48a9bd17-df93-43b7-be37-8fd0a5e99d4f",
   "metadata": {},
   "outputs": [
    {
     "name": "stdout",
     "output_type": "stream",
     "text": [
      "Variable: alcohol              Importance: 0.159\n",
      "Variable: density              Importance: 0.123\n",
      "Variable: volatile acidity     Importance: 0.089\n",
      "Variable: sulphates            Importance: 0.083\n",
      "Variable: residual sugar       Importance: 0.082\n",
      "Variable: chlorides            Importance: 0.082\n",
      "Variable: total sulfur dioxide Importance: 0.08\n",
      "Variable: citric acid          Importance: 0.078\n",
      "Variable: free sulfur dioxide  Importance: 0.077\n",
      "Variable: pH                   Importance: 0.077\n",
      "Variable: fixed acidity        Importance: 0.067\n",
      "Variable: type                 Importance: 0.003\n"
     ]
    },
    {
     "data": {
      "text/plain": [
       "[None, None, None, None, None, None, None, None, None, None, None, None]"
      ]
     },
     "execution_count": 13,
     "metadata": {},
     "output_type": "execute_result"
    }
   ],
   "source": [
    "importances = list(model.feature_importances_)\n",
    "feature_list = list(X_features)\n",
    "feature_importances = [(feature, round(importance, 3)) for feature, importance in zip(feature_list, importances)]\n",
    "feature_importances = sorted(feature_importances, key = lambda x: x[1], reverse = True)\n",
    "\n",
    "[print('Variable: {:20} Importance: {}'.format(*pair)) for pair in feature_importances]"
   ]
  },
  {
   "cell_type": "markdown",
   "id": "1e45b59f-97d0-4964-840f-311bf79455e5",
   "metadata": {},
   "source": [
    "## Model 2: \n",
    "### Important features / Default Parameters"
   ]
  },
  {
   "cell_type": "markdown",
   "id": "4f3e6b51-4b82-445a-9aad-0fbbd16b3df1",
   "metadata": {},
   "source": [
    "### Extracting important features"
   ]
  },
  {
   "cell_type": "code",
   "execution_count": 14,
   "id": "3104fdf0-e2ab-4927-89fb-a14a22dd2b93",
   "metadata": {},
   "outputs": [
    {
     "data": {
      "text/plain": [
       "['alcohol', 'density', 'volatile acidity', 'sulphates', 'residual sugar']"
      ]
     },
     "execution_count": 14,
     "metadata": {},
     "output_type": "execute_result"
    }
   ],
   "source": [
    "important_feature_names = [feature[0] for feature in feature_importances[0:5]]\n",
    "important_indices = [feature_list.index(feature) for feature in important_feature_names]\n",
    "\n",
    "important_feature_names"
   ]
  },
  {
   "cell_type": "code",
   "execution_count": 15,
   "id": "1c639530-235a-4974-bc05-f77c5cfa6f1f",
   "metadata": {},
   "outputs": [],
   "source": [
    "important_train_features = X_train[:, important_indices]"
   ]
  },
  {
   "cell_type": "markdown",
   "id": "a0a7abf5-782a-43f1-95a1-b5de6ee0813e",
   "metadata": {},
   "source": [
    "### New X,y values"
   ]
  },
  {
   "cell_type": "code",
   "execution_count": 16,
   "id": "b3fe77fd-fe22-4390-ac27-dd31730a18d2",
   "metadata": {},
   "outputs": [
    {
     "name": "stdout",
     "output_type": "stream",
     "text": [
      "Important train features shape: (4847, 6)\n",
      "Important test features shape: (1616, 6)\n"
     ]
    }
   ],
   "source": [
    "important_feature_names = [feature[0] for feature in feature_importances[0:6]]\n",
    "important_indices = [feature_list.index(feature) for feature in important_feature_names]\n",
    "\n",
    "important_X_train = X_train[:, important_indices]\n",
    "important_X_test = X_test[:, important_indices]\n",
    "\n",
    "print('Important train features shape:', important_X_train.shape)\n",
    "print('Important test features shape:', important_X_test.shape)"
   ]
  },
  {
   "cell_type": "markdown",
   "id": "e216e3db-7894-45a9-8339-4ba368146c9c",
   "metadata": {},
   "source": [
    "### Fitting model"
   ]
  },
  {
   "cell_type": "code",
   "execution_count": 17,
   "id": "301e93a3-4420-47f6-a353-a42d21c139f0",
   "metadata": {},
   "outputs": [
    {
     "name": "stdout",
     "output_type": "stream",
     "text": [
      "              precision    recall  f1-score   support\n",
      "\n",
      "           0       0.89      0.96      0.92      1315\n",
      "           1       0.74      0.49      0.59       301\n",
      "\n",
      "    accuracy                           0.87      1616\n",
      "   macro avg       0.82      0.73      0.76      1616\n",
      "weighted avg       0.86      0.87      0.86      1616\n",
      "\n",
      "Accuracy Score: 0.8731\n"
     ]
    }
   ],
   "source": [
    "model2 = RandomForestClassifier(random_state=1)\n",
    "model2.fit(important_X_train, y_train)\n",
    "y_pred2 = model2.predict(important_X_test)\n",
    "print(classification_report(y_test, y_pred2))\n",
    "print('Accuracy Score: {}'.format(round(accuracy_score(y_test, y_pred2),4)))"
   ]
  },
  {
   "cell_type": "markdown",
   "id": "39b4e78c-0f41-4378-9afd-4325e9235c65",
   "metadata": {},
   "source": [
    "## Model 3: (GridSearch)\n",
    "### Default features / Optimal Parameters"
   ]
  },
  {
   "cell_type": "code",
   "execution_count": 18,
   "id": "ba1c91f4-087a-47e0-b18e-9366a453ae3e",
   "metadata": {},
   "outputs": [
    {
     "data": {
      "text/plain": [
       "GridSearchCV(cv=5, estimator=RandomForestClassifier(),\n",
       "             param_grid={'max_depth': [1, 2, 4, 8, 16, 32, None],\n",
       "                         'n_estimators': [1, 2, 3, 4, 5, 10, 25, 50, 100, 250]})"
      ]
     },
     "execution_count": 18,
     "metadata": {},
     "output_type": "execute_result"
    }
   ],
   "source": [
    "rfc = RandomForestClassifier()\n",
    "parameters = {\n",
    "    \"n_estimators\":[1,2,3,4,5,10,25,50,100,250],\n",
    "    \"max_depth\":[1,2,4,8,16,32,None]\n",
    "}\n",
    "\n",
    "from sklearn.model_selection import GridSearchCV\n",
    "cv = GridSearchCV(rfc,parameters,cv=5)\n",
    "cv.fit(X_train,y_train.values.ravel())"
   ]
  },
  {
   "cell_type": "markdown",
   "id": "94d2c88b-503f-4720-a3b8-5319903de40a",
   "metadata": {},
   "source": [
    "### Displaying GridSearch results."
   ]
  },
  {
   "cell_type": "code",
   "execution_count": 19,
   "id": "8be773ee-a664-41f6-a5d9-156b3975953a",
   "metadata": {},
   "outputs": [],
   "source": [
    "def display(results):\n",
    "    print(f'Best parameters are: {results.best_params_}')\n",
    "    print(\"\\n\")\n",
    "    mean_score = results.cv_results_['mean_test_score']\n",
    "    std_score = results.cv_results_['std_test_score']\n",
    "    params = results.cv_results_['params']\n",
    "    for mean,std,params in zip(mean_score,std_score,params):\n",
    "        print(f'{round(mean,3)} + or -{round(std,3)} for the {params}')"
   ]
  },
  {
   "cell_type": "code",
   "execution_count": 20,
   "id": "0c121897-80de-45ac-a438-d5950aee69d7",
   "metadata": {
    "tags": []
   },
   "outputs": [
    {
     "name": "stdout",
     "output_type": "stream",
     "text": [
      "Best parameters are: {'max_depth': 32, 'n_estimators': 100}\n",
      "\n",
      "\n",
      "0.8 + or -0.0 for the {'max_depth': 1, 'n_estimators': 1}\n",
      "0.8 + or -0.0 for the {'max_depth': 1, 'n_estimators': 2}\n",
      "0.8 + or -0.0 for the {'max_depth': 1, 'n_estimators': 3}\n",
      "0.8 + or -0.0 for the {'max_depth': 1, 'n_estimators': 4}\n",
      "0.8 + or -0.0 for the {'max_depth': 1, 'n_estimators': 5}\n",
      "0.8 + or -0.0 for the {'max_depth': 1, 'n_estimators': 10}\n",
      "0.8 + or -0.0 for the {'max_depth': 1, 'n_estimators': 25}\n",
      "0.8 + or -0.0 for the {'max_depth': 1, 'n_estimators': 50}\n",
      "0.8 + or -0.0 for the {'max_depth': 1, 'n_estimators': 100}\n",
      "0.8 + or -0.0 for the {'max_depth': 1, 'n_estimators': 250}\n",
      "0.802 + or -0.003 for the {'max_depth': 2, 'n_estimators': 1}\n",
      "0.804 + or -0.004 for the {'max_depth': 2, 'n_estimators': 2}\n",
      "0.799 + or -0.005 for the {'max_depth': 2, 'n_estimators': 3}\n",
      "0.802 + or -0.005 for the {'max_depth': 2, 'n_estimators': 4}\n",
      "0.805 + or -0.005 for the {'max_depth': 2, 'n_estimators': 5}\n",
      "0.8 + or -0.001 for the {'max_depth': 2, 'n_estimators': 10}\n",
      "0.8 + or -0.001 for the {'max_depth': 2, 'n_estimators': 25}\n",
      "0.8 + or -0.0 for the {'max_depth': 2, 'n_estimators': 50}\n",
      "0.8 + or -0.0 for the {'max_depth': 2, 'n_estimators': 100}\n",
      "0.8 + or -0.0 for the {'max_depth': 2, 'n_estimators': 250}\n",
      "0.802 + or -0.01 for the {'max_depth': 4, 'n_estimators': 1}\n",
      "0.813 + or -0.008 for the {'max_depth': 4, 'n_estimators': 2}\n",
      "0.819 + or -0.008 for the {'max_depth': 4, 'n_estimators': 3}\n",
      "0.814 + or -0.004 for the {'max_depth': 4, 'n_estimators': 4}\n",
      "0.815 + or -0.009 for the {'max_depth': 4, 'n_estimators': 5}\n",
      "0.817 + or -0.006 for the {'max_depth': 4, 'n_estimators': 10}\n",
      "0.82 + or -0.004 for the {'max_depth': 4, 'n_estimators': 25}\n",
      "0.82 + or -0.004 for the {'max_depth': 4, 'n_estimators': 50}\n",
      "0.819 + or -0.005 for the {'max_depth': 4, 'n_estimators': 100}\n",
      "0.818 + or -0.006 for the {'max_depth': 4, 'n_estimators': 250}\n",
      "0.806 + or -0.007 for the {'max_depth': 8, 'n_estimators': 1}\n",
      "0.82 + or -0.011 for the {'max_depth': 8, 'n_estimators': 2}\n",
      "0.836 + or -0.005 for the {'max_depth': 8, 'n_estimators': 3}\n",
      "0.834 + or -0.01 for the {'max_depth': 8, 'n_estimators': 4}\n",
      "0.848 + or -0.01 for the {'max_depth': 8, 'n_estimators': 5}\n",
      "0.844 + or -0.013 for the {'max_depth': 8, 'n_estimators': 10}\n",
      "0.851 + or -0.007 for the {'max_depth': 8, 'n_estimators': 25}\n",
      "0.852 + or -0.01 for the {'max_depth': 8, 'n_estimators': 50}\n",
      "0.853 + or -0.008 for the {'max_depth': 8, 'n_estimators': 100}\n",
      "0.852 + or -0.009 for the {'max_depth': 8, 'n_estimators': 250}\n",
      "0.807 + or -0.013 for the {'max_depth': 16, 'n_estimators': 1}\n",
      "0.841 + or -0.013 for the {'max_depth': 16, 'n_estimators': 2}\n",
      "0.842 + or -0.008 for the {'max_depth': 16, 'n_estimators': 3}\n",
      "0.85 + or -0.011 for the {'max_depth': 16, 'n_estimators': 4}\n",
      "0.854 + or -0.011 for the {'max_depth': 16, 'n_estimators': 5}\n",
      "0.86 + or -0.007 for the {'max_depth': 16, 'n_estimators': 10}\n",
      "0.874 + or -0.01 for the {'max_depth': 16, 'n_estimators': 25}\n",
      "0.875 + or -0.012 for the {'max_depth': 16, 'n_estimators': 50}\n",
      "0.875 + or -0.014 for the {'max_depth': 16, 'n_estimators': 100}\n",
      "0.877 + or -0.012 for the {'max_depth': 16, 'n_estimators': 250}\n",
      "0.809 + or -0.005 for the {'max_depth': 32, 'n_estimators': 1}\n",
      "0.831 + or -0.01 for the {'max_depth': 32, 'n_estimators': 2}\n",
      "0.842 + or -0.012 for the {'max_depth': 32, 'n_estimators': 3}\n",
      "0.847 + or -0.009 for the {'max_depth': 32, 'n_estimators': 4}\n",
      "0.848 + or -0.012 for the {'max_depth': 32, 'n_estimators': 5}\n",
      "0.867 + or -0.017 for the {'max_depth': 32, 'n_estimators': 10}\n",
      "0.876 + or -0.012 for the {'max_depth': 32, 'n_estimators': 25}\n",
      "0.878 + or -0.011 for the {'max_depth': 32, 'n_estimators': 50}\n",
      "0.879 + or -0.011 for the {'max_depth': 32, 'n_estimators': 100}\n",
      "0.878 + or -0.013 for the {'max_depth': 32, 'n_estimators': 250}\n",
      "0.799 + or -0.011 for the {'max_depth': None, 'n_estimators': 1}\n",
      "0.835 + or -0.006 for the {'max_depth': None, 'n_estimators': 2}\n",
      "0.834 + or -0.014 for the {'max_depth': None, 'n_estimators': 3}\n",
      "0.851 + or -0.016 for the {'max_depth': None, 'n_estimators': 4}\n",
      "0.857 + or -0.008 for the {'max_depth': None, 'n_estimators': 5}\n",
      "0.869 + or -0.011 for the {'max_depth': None, 'n_estimators': 10}\n",
      "0.871 + or -0.011 for the {'max_depth': None, 'n_estimators': 25}\n",
      "0.876 + or -0.01 for the {'max_depth': None, 'n_estimators': 50}\n",
      "0.877 + or -0.014 for the {'max_depth': None, 'n_estimators': 100}\n",
      "0.876 + or -0.012 for the {'max_depth': None, 'n_estimators': 250}\n"
     ]
    }
   ],
   "source": [
    "display(cv)"
   ]
  },
  {
   "cell_type": "markdown",
   "id": "1955de34-63d6-48ac-b3e9-26fbb5af387a",
   "metadata": {},
   "source": [
    "### Fitting our parameters"
   ]
  },
  {
   "cell_type": "code",
   "execution_count": 21,
   "id": "b215a86a-ecf4-441a-ac6b-33c1021ca3fa",
   "metadata": {},
   "outputs": [
    {
     "name": "stdout",
     "output_type": "stream",
     "text": [
      "              precision    recall  f1-score   support\n",
      "\n",
      "           0       0.90      0.97      0.94      1315\n",
      "           1       0.82      0.53      0.65       301\n",
      "\n",
      "    accuracy                           0.89      1616\n",
      "   macro avg       0.86      0.75      0.79      1616\n",
      "weighted avg       0.89      0.89      0.88      1616\n",
      "\n",
      "Accuracy Score: 0.891\n"
     ]
    }
   ],
   "source": [
    "model3 = RandomForestClassifier(max_depth = 16, n_estimators = 100, random_state=1)\n",
    "model3.fit(X_train, y_train)\n",
    "y_pred3 = model3.predict(X_test)\n",
    "print(classification_report(y_test, y_pred3))\n",
    "print('Accuracy Score: {}'.format(round(accuracy_score(y_test, y_pred3),3)))"
   ]
  },
  {
   "cell_type": "markdown",
   "id": "559a3d1b-5365-498a-8e92-6488e1938c82",
   "metadata": {},
   "source": [
    "## Model 4: (GridSearch)\n",
    "### Important features / Optimal Parameters"
   ]
  },
  {
   "cell_type": "code",
   "execution_count": 22,
   "id": "09ba5ec4-69f3-44d7-8520-6aab3d9aeb22",
   "metadata": {},
   "outputs": [
    {
     "name": "stdout",
     "output_type": "stream",
     "text": [
      "              precision    recall  f1-score   support\n",
      "\n",
      "           0       0.90      0.96      0.93      1315\n",
      "           1       0.74      0.51      0.61       301\n",
      "\n",
      "    accuracy                           0.88      1616\n",
      "   macro avg       0.82      0.74      0.77      1616\n",
      "weighted avg       0.87      0.88      0.87      1616\n",
      "\n",
      "Accuracy Score: 0.876\n"
     ]
    }
   ],
   "source": [
    "model4 = RandomForestClassifier(max_depth = 16, n_estimators = 250, random_state=1)\n",
    "model4.fit(important_X_train, y_train)\n",
    "y_pred4 = model4.predict(important_X_test)\n",
    "print(classification_report(y_test, y_pred4))\n",
    "print('Accuracy Score: {}'.format(round(accuracy_score(y_test, y_pred4),3)))"
   ]
  },
  {
   "cell_type": "code",
   "execution_count": 23,
   "id": "3df3760c-6c61-4485-8951-b4c08b3c92a9",
   "metadata": {},
   "outputs": [
    {
     "name": "stdout",
     "output_type": "stream",
     "text": [
      "Default parameters: \n",
      "\n",
      "Accuracy Score (All features): 0.88\n",
      "Accuracy Score (Important features): 0.873\n",
      "\n",
      "GridSearch parameters: \n",
      "\n",
      "Accuracy Score (All features): 0.891\n",
      "Accuracy Score (Important features): 0.876\n"
     ]
    }
   ],
   "source": [
    "print('Default parameters: \\n\\nAccuracy Score (All features): {}'.format(round(accuracy_score(y_test, y_pred),3)))\n",
    "print('Accuracy Score (Important features): {}'.format(round(accuracy_score(y_test, y_pred2),3)))\n",
    "print('\\nGridSearch parameters: \\n\\nAccuracy Score (All features): {}'.format(round(accuracy_score(y_test, y_pred3),3)))\n",
    "print('Accuracy Score (Important features): {}'.format(round(accuracy_score(y_test, y_pred4),3)))"
   ]
  },
  {
   "cell_type": "code",
   "execution_count": null,
   "id": "a14031b8-2fca-4956-8e46-1c31de5e5a20",
   "metadata": {},
   "outputs": [],
   "source": []
  }
 ],
 "metadata": {
  "kernelspec": {
   "display_name": "Python 3",
   "language": "python",
   "name": "python3"
  },
  "language_info": {
   "codemirror_mode": {
    "name": "ipython",
    "version": 3
   },
   "file_extension": ".py",
   "mimetype": "text/x-python",
   "name": "python",
   "nbconvert_exporter": "python",
   "pygments_lexer": "ipython3",
   "version": "3.8.8"
  }
 },
 "nbformat": 4,
 "nbformat_minor": 5
}
